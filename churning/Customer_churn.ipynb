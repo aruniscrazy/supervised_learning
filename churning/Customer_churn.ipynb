{
 "cells": [
  {
   "cell_type": "code",
   "execution_count": 17,
   "metadata": {},
   "outputs": [],
   "source": [
    "import numpy as np\n",
    "import pandas as pd\n",
    "import seaborn as sns\n",
    "import matplotlib.pyplot as plt \n",
    "from sklearn.model_selection import train_test_split \n",
    "\n",
    "%matplotlib inline\n"
   ]
  },
  {
   "cell_type": "code",
   "execution_count": 36,
   "metadata": {},
   "outputs": [
    {
     "data": {
      "text/plain": [
       "(7043, 21)"
      ]
     },
     "execution_count": 36,
     "metadata": {},
     "output_type": "execute_result"
    }
   ],
   "source": [
    "churn_ds = pd.read_csv('/Users/aruniscrazy/Desktop/myWorks/ml_learns/dataset/churning/Telco-Customer-Churn.csv')\n",
    "churn_ds.shape"
   ]
  },
  {
   "cell_type": "code",
   "execution_count": 37,
   "metadata": {},
   "outputs": [],
   "source": [
    "churn_ds.loc[churn_ds.Churn=='No','Churn'] = 0\n",
    "churn_ds.loc[churn_ds.Churn=='Yes','Churn'] = 1"
   ]
  },
  {
   "cell_type": "code",
   "execution_count": 38,
   "metadata": {},
   "outputs": [],
   "source": [
    "cols = ['OnlineBackup', 'StreamingMovies','DeviceProtection',\n",
    "                'TechSupport','OnlineSecurity','StreamingTV']\n",
    "\n",
    "for i in cols:\n",
    "    churn_ds[i]=churn_ds[i].replace({'No internet service' : 'No'})"
   ]
  },
  {
   "cell_type": "code",
   "execution_count": 39,
   "metadata": {},
   "outputs": [
    {
     "data": {
      "text/plain": [
       "<matplotlib.axes._subplots.AxesSubplot at 0x124b23c90>"
      ]
     },
     "execution_count": 39,
     "metadata": {},
     "output_type": "execute_result"
    },
    {
     "data": {
      "image/png": "[encoded data removed]",
      "text/plain": [
       "<Figure size 432x288 with 1 Axes>"
      ]
     },
     "metadata": {
      "needs_background": "light"
     },
     "output_type": "display_data"
    }
   ],
   "source": [
    "sns.heatmap(churn_ds.isnull(), cbar=False)\n"
   ]
  },
  {
   "cell_type": "code",
   "execution_count": 40,
   "metadata": {},
   "outputs": [],
   "source": [
    "churn_ds.head(5)\n",
    "churn_ds['Churn'].value_counts() \n",
    "#Perform One Hot Encoding using get_dummies method\n",
    "churn_ds = pd.get_dummies(churn_ds, columns = ['Contract','Dependents','DeviceProtection',\n",
    "                                                        'InternetService','MultipleLines','OnlineBackup',\n",
    "                                                        'OnlineSecurity','PaperlessBilling','Partner',\n",
    "                                                        'PaymentMethod','PhoneService','SeniorCitizen',\n",
    "                                                        'StreamingMovies','StreamingTV','TechSupport'],\n",
    "                              drop_first=True)\n"
   ]
  },
  {
   "cell_type": "code",
   "execution_count": 93,
   "metadata": {},
   "outputs": [],
   "source": [
    "from sklearn.preprocessing import StandardScaler\n",
    "\n",
    "#Perform Feature Scaling on 'tenure', 'MonthlyCharges', 'TotalCharges' in order to bring them on same scale\n",
    "\n",
    "standardScaler = StandardScaler()\n",
    "columns_for_ft_scaling = ['tenure']\n",
    "\n",
    "#Apply the feature scaling operation on dataset using fit_transform() method\n",
    "churn_ds[columns_for_ft_scaling] = standardScaler.fit_transform(churn_ds[columns_for_ft_scaling])\n",
    "\n"
   ]
  },
  {
   "cell_type": "code",
   "execution_count": 94,
   "metadata": {},
   "outputs": [
    {
     "data": {
      "text/plain": [
       "0    1560\n",
       "1     553\n",
       "Name: Churn, dtype: int64"
      ]
     },
     "execution_count": 94,
     "metadata": {},
     "output_type": "execute_result"
    }
   ],
   "source": [
    "y = churn_ds['Churn']\n",
    "X = churn_ds.drop(['Churn','customerID','TotalCharges','MonthlyCharges','gender'], axis = 1)\n",
    "X_train, X_test, y_train, y_test = train_test_split(X, y, test_size = 0.3, random_state = 0) \n",
    "y_test.value_counts()"
   ]
  },
  {
   "cell_type": "code",
   "execution_count": 95,
   "metadata": {},
   "outputs": [
    {
     "name": "stdout",
     "output_type": "stream",
     "text": [
      "Before OverSampling, counts of label '1': 1316\n",
      "Before OverSampling, counts of label '0': 3614 \n",
      "\n",
      "After OverSampling, the shape of train_X: (7228, 21)\n",
      "After OverSampling, the shape of train_y: (7228,) \n",
      "\n",
      "After OverSampling, counts of label '1': 3614\n",
      "After OverSampling, counts of label '0': 3614\n"
     ]
    }
   ],
   "source": [
    "print(\"Before OverSampling, counts of label '1': {}\".format(sum(y_train == 1))) \n",
    "print(\"Before OverSampling, counts of label '0': {} \\n\".format(sum(y_train == 0))) \n",
    "\n",
    "# import SMOTE module from imblearn library \n",
    "# pip install imblearn (if you don't have imblearn in your system) \n",
    "from imblearn.over_sampling import SMOTE \n",
    "sm = SMOTE(random_state = 2) \n",
    "X_train_res, y_train_res = sm.fit_sample(X_train, y_train.ravel()) \n",
    "\n",
    "print('After OverSampling, the shape of train_X: {}'.format(X_train_res.shape)) \n",
    "print('After OverSampling, the shape of train_y: {} \\n'.format(y_train_res.shape)) \n",
    "\n",
    "print(\"After OverSampling, counts of label '1': {}\".format(sum(y_train_res == 1))) \n",
    "print(\"After OverSampling, counts of label '0': {}\".format(sum(y_train_res == 0))) \n"
   ]
  },
  {
   "cell_type": "code",
   "execution_count": 107,
   "metadata": {},
   "outputs": [],
   "source": [
    "from sklearn.linear_model import LogisticRegression\n",
    "from sklearn.metrics import accuracy_score, f1_score, precision_score, recall_score, classification_report, confusion_matrix\n",
    "\n",
    "logmodel = LogisticRegression(random_state=50)\n",
    "logmodel.fit(X_train_res,y_train_res.ravel())\n",
    "\n",
    "#Predict the value for new, unseen data\n",
    "pred = logmodel.predict(X_test)\n",
    "\n",
    "# Find Accuracy using accuracy_score method\n",
    "#logmodel_accuracy = round(metrics.accuracy_score(y_test, pred) * 100, 2)"
   ]
  },
  {
   "cell_type": "code",
   "execution_count": 106,
   "metadata": {},
   "outputs": [
    {
     "data": {
      "text/plain": [
       "array([[1154,  406],\n",
       "       [ 135,  418]])"
      ]
     },
     "execution_count": 106,
     "metadata": {},
     "output_type": "execute_result"
    }
   ],
   "source": [
    "#Generate confusion matrix for logistics regression model as it has maximum Accuracy\n",
    "from sklearn.metrics import confusion_matrix\n",
    "conf_mat_logmodel = confusion_matrix(y_test,pred)\n",
    "conf_mat_logmodel"
   ]
  },
  {
   "cell_type": "code",
   "execution_count": 105,
   "metadata": {},
   "outputs": [
    {
     "name": "stdout",
     "output_type": "stream",
     "text": [
      "[[1154  406]\n",
      " [ 135  418]]\n",
      "Accuracy Score : 0.7439659252247989\n",
      "Report : \n",
      "              precision    recall  f1-score   support\n",
      "\n",
      "           0       0.90      0.74      0.81      1560\n",
      "           1       0.51      0.76      0.61       553\n",
      "\n",
      "    accuracy                           0.74      2113\n",
      "   macro avg       0.70      0.75      0.71      2113\n",
      "weighted avg       0.79      0.74      0.76      2113\n",
      "\n"
     ]
    }
   ],
   "source": [
    "\n",
    "print(conf_mat_logmodel) \n",
    "print ('Accuracy Score :',accuracy_score(y_test, pred))\n",
    "print ('Report : ')\n",
    "print (classification_report(y_test, pred))"
   ]
  },
  {
   "cell_type": "code",
   "execution_count": 102,
   "metadata": {},
   "outputs": [
    {
     "data": {
      "text/plain": [
       "Counter({0: 1289, 1: 824})"
      ]
     },
     "execution_count": 102,
     "metadata": {},
     "output_type": "execute_result"
    }
   ],
   "source": [
    "import collections\n",
    "\n",
    "collections.Counter(pred)"
   ]
  },
  {
   "cell_type": "code",
   "execution_count": 103,
   "metadata": {},
   "outputs": [
    {
     "data": {
      "text/html": [
       "<div>\n",
       "<style scoped>\n",
       "    .dataframe tbody tr th:only-of-type {\n",
       "        vertical-align: middle;\n",
       "    }\n",
       "\n",
       "    .dataframe tbody tr th {\n",
       "        vertical-align: top;\n",
       "    }\n",
       "\n",
       "    .dataframe thead th {\n",
       "        text-align: right;\n",
       "    }\n",
       "</style>\n",
       "<table border=\"1\" class=\"dataframe\">\n",
       "  <thead>\n",
       "    <tr style=\"text-align: right;\">\n",
       "      <th></th>\n",
       "      <th>customerID</th>\n",
       "      <th>Churn</th>\n",
       "      <th>Probability_of_Churn</th>\n",
       "    </tr>\n",
       "  </thead>\n",
       "  <tbody>\n",
       "    <tr>\n",
       "      <th>3209</th>\n",
       "      <td>8149-RSOUN</td>\n",
       "      <td>Yes</td>\n",
       "      <td>0.939752</td>\n",
       "    </tr>\n",
       "    <tr>\n",
       "      <th>2577</th>\n",
       "      <td>4910-GMJOT</td>\n",
       "      <td>Yes</td>\n",
       "      <td>0.939752</td>\n",
       "    </tr>\n",
       "    <tr>\n",
       "      <th>6866</th>\n",
       "      <td>0295-PPHDO</td>\n",
       "      <td>Yes</td>\n",
       "      <td>0.939752</td>\n",
       "    </tr>\n",
       "    <tr>\n",
       "      <th>1148</th>\n",
       "      <td>7851-WZEKY</td>\n",
       "      <td>Yes</td>\n",
       "      <td>0.938334</td>\n",
       "    </tr>\n",
       "    <tr>\n",
       "      <th>969</th>\n",
       "      <td>3158-MOERK</td>\n",
       "      <td>Yes</td>\n",
       "      <td>0.938334</td>\n",
       "    </tr>\n",
       "    <tr>\n",
       "      <th>3727</th>\n",
       "      <td>9057-SIHCH</td>\n",
       "      <td>Yes</td>\n",
       "      <td>0.936884</td>\n",
       "    </tr>\n",
       "    <tr>\n",
       "      <th>1976</th>\n",
       "      <td>9497-QCMMS</td>\n",
       "      <td>Yes</td>\n",
       "      <td>0.936170</td>\n",
       "    </tr>\n",
       "    <tr>\n",
       "      <th>4800</th>\n",
       "      <td>9300-AGZNL</td>\n",
       "      <td>Yes</td>\n",
       "      <td>0.936170</td>\n",
       "    </tr>\n",
       "    <tr>\n",
       "      <th>6482</th>\n",
       "      <td>5419-JPRRN</td>\n",
       "      <td>Yes</td>\n",
       "      <td>0.934814</td>\n",
       "    </tr>\n",
       "    <tr>\n",
       "      <th>1410</th>\n",
       "      <td>7024-OHCCK</td>\n",
       "      <td>Yes</td>\n",
       "      <td>0.934674</td>\n",
       "    </tr>\n",
       "  </tbody>\n",
       "</table>\n",
       "</div>"
      ],
      "text/plain": [
       "      customerID Churn  Probability_of_Churn\n",
       "3209  8149-RSOUN   Yes              0.939752\n",
       "2577  4910-GMJOT   Yes              0.939752\n",
       "6866  0295-PPHDO   Yes              0.939752\n",
       "1148  7851-WZEKY   Yes              0.938334\n",
       "969   3158-MOERK   Yes              0.938334\n",
       "3727  9057-SIHCH   Yes              0.936884\n",
       "1976  9497-QCMMS   Yes              0.936170\n",
       "4800  9300-AGZNL   Yes              0.936170\n",
       "6482  5419-JPRRN   Yes              0.934814\n",
       "1410  7024-OHCCK   Yes              0.934674"
      ]
     },
     "execution_count": 103,
     "metadata": {},
     "output_type": "execute_result"
    }
   ],
   "source": [
    "churn_dataset['Probability_of_Churn'] = logmodel.predict_proba(churn_dataset[X_test.columns])[:,1]\n",
    "#churn_dataset.sort_values(['customerID','Probability_of_Churn'],  ascending=[False,False])\n",
    "churn_prediction=churn_dataset[['customerID','Churn','Probability_of_Churn']]\n",
    "churn_prediction.sort_values(['Probability_of_Churn','Churn','customerID'], ascending=[False,False,False]).head(10)\n",
    "#churn_prediction.shape"
   ]
  },
  {
   "cell_type": "code",
   "execution_count": null,
   "metadata": {},
   "outputs": [],
   "source": []
  }
 ],
 "metadata": {
  "kernelspec": {
   "display_name": "Python 3",
   "language": "python",
   "name": "python3"
  },
  "language_info": {
   "codemirror_mode": {
    "name": "ipython",
    "version": 3
   },
   "file_extension": ".py",
   "mimetype": "text/x-python",
   "name": "python",
   "nbconvert_exporter": "python",
   "pygments_lexer": "ipython3",
   "version": "3.7.6"
  }
 },
 "nbformat": 4,
 "nbformat_minor": 4
}
