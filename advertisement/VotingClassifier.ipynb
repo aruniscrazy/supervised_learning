{
 "cells": [
  {
   "cell_type": "code",
   "execution_count": 2,
   "metadata": {},
   "outputs": [],
   "source": [
    "import pandas as pd\n",
    "import numpy as np\n",
    "import warnings\n",
    "from sklearn import datasets\n",
    "from sklearn import model_selection\n",
    "from sklearn.ensemble import RandomForestClassifier\n",
    "from sklearn.ensemble import VotingClassifier\n",
    "from sklearn.linear_model import LogisticRegression\n",
    "from sklearn.naive_bayes import GaussianNB\n",
    "warnings.filterwarnings(\"ignore\")\n"
   ]
  },
  {
   "cell_type": "code",
   "execution_count": 4,
   "metadata": {},
   "outputs": [],
   "source": [
    "add_path='ddvertising_data.tsv'\n",
    "add_df=pd.read_csv(add_path)\n",
    "X = add_df.iloc[:, [2, 3]].values\n",
    "y = add_df.iloc[:, 4].values"
   ]
  },
  {
   "cell_type": "code",
   "execution_count": 22,
   "metadata": {},
   "outputs": [
    {
     "name": "stdout",
     "output_type": "stream",
     "text": [
      "5-fold cross validation:\n",
      "\n",
      "Accuracy: 0.86 (+/- 0.05) [Logistic Regression]\n",
      "Accuracy: 0.68 (+/- 0.07) [Random Forest]\n",
      "Accuracy: 0.89 (+/- 0.06) [Naive Bayes]\n"
     ]
    }
   ],
   "source": [
    "clf1 = RandomForestClassifier(random_state=1) \n",
    "clf2 = LogisticRegression(random_state=1)\n",
    "clf3 = GaussianNB()\n",
    "\n",
    "print('5-fold cross validation:\\n')\n",
    "labels = ['Logistic Regression', 'Random Forest', 'Naive Bayes']\n",
    "for clf, label in zip([clf1, clf2, clf3], labels):\n",
    "    scores = model_selection.cross_val_score(clf, X, y, \n",
    "                                              cv=5, \n",
    "                                              scoring='accuracy')\n",
    "\n",
    "    print(\"Accuracy: %0.2f (+/- %0.2f) [%s]\"\n",
    "          % (scores.mean(), scores.std(), label))"
   ]
  },
  {
   "cell_type": "code",
   "execution_count": 18,
   "metadata": {},
   "outputs": [
    {
     "data": {
      "text/plain": [
       "array([0.7625, 0.95  , 0.9125, 0.825 , 0.8875])"
      ]
     },
     "execution_count": 18,
     "metadata": {},
     "output_type": "execute_result"
    }
   ],
   "source": [
    "voting_clf_hard = VotingClassifier(estimators = [(labels[0], clf1),\n",
    "                                                 (labels[1], clf2),\n",
    "                                                 (labels[2], clf3)],\n",
    "                                   voting = 'hard')\n",
    "\n",
    "score = model_selection.cross_val_score(voting_clf_hard, X, y, \n",
    "                                              cv=5, \n",
    "                                              scoring='accuracy')\n",
    "score"
   ]
  },
  {
   "cell_type": "code",
   "execution_count": 9,
   "metadata": {},
   "outputs": [],
   "source": [
    "voting_clf_soft = VotingClassifier(estimators = [(labels[0], clf1),\n",
    "                                                 (labels[1], clf2),\n",
    "                                                 (labels[2], clf3)],\n",
    "                                   voting = 'soft')"
   ]
  },
  {
   "cell_type": "code",
   "execution_count": 10,
   "metadata": {},
   "outputs": [
    {
     "name": "stdout",
     "output_type": "stream",
     "text": [
      "Accuracy: 0.86 (+/- 0.05) [Logistic Regression]\n",
      "Accuracy: 0.68 (+/- 0.07) [Random Forest]\n",
      "Accuracy: 0.89 (+/- 0.06) [Naive Bayes]\n",
      "Accuracy: 0.87 (+/- 0.07) [Voting_Classifier_Hard]\n",
      "Accuracy: 0.88 (+/- 0.05) [Voting_Classifier_Soft]\n"
     ]
    }
   ],
   "source": [
    "labels_new = ['Logistic Regression', 'Random Forest', 'Naive Bayes',\n",
    "              'Voting_Classifier_Hard', 'Voting_Classifier_Soft']\n",
    "\n",
    "for (clf, label) in zip([clf1, clf2, clf3, voting_clf_hard,\n",
    "                        voting_clf_soft], labels_new):\n",
    "    scores = model_selection.cross_val_score(clf, X, y, cv=5,\n",
    "            scoring='accuracy')\n",
    "    print(\"Accuracy: %0.2f (+/- %0.2f) [%s]\"\n",
    "          % (scores.mean(), scores.std(), label))"
   ]
  }
 ],
 "metadata": {
  "kernelspec": {
   "display_name": "Python 3",
   "language": "python",
   "name": "python3"
  },
  "language_info": {
   "codemirror_mode": {
    "name": "ipython",
    "version": 3
   },
   "file_extension": ".py",
   "mimetype": "text/x-python",
   "name": "python",
   "nbconvert_exporter": "python",
   "pygments_lexer": "ipython3",
   "version": "3.7.6"
  }
 },
 "nbformat": 4,
 "nbformat_minor": 4
}
